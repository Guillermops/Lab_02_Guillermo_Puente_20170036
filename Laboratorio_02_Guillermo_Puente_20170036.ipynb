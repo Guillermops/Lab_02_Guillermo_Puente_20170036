{
 "cells": [
  {
   "cell_type": "markdown",
   "metadata": {},
   "source": [
    "# Laboratorio 2 #"
   ]
  },
  {
   "cell_type": "code",
   "execution_count": 2,
   "metadata": {},
   "outputs": [],
   "source": [
    "import numpy as np\n",
    "import pandas as pd"
   ]
  },
  {
   "cell_type": "markdown",
   "metadata": {},
   "source": [
    "## Problema 1 ##"
   ]
  },
  {
   "cell_type": "code",
   "execution_count": 3,
   "metadata": {},
   "outputs": [],
   "source": [
    "# Copiamos el problema #\n",
    "M = np.array([\n",
    "    [1,1,0,0,0,0,1],\n",
    "    [0,1,1,0,0,1,0],\n",
    "    [0,0,1,1,0,0,0],\n",
    "    [0,0,0,1,1,0,1],\n",
    "    [1,0,0,0,0,1,1],\n",
    "    [0,0,0,0,1,1,1],\n",
    "    [1,1,1,0,0,0,1]])\n",
    "\n",
    "M1 = np.array([\n",
    "    [1,1,0,0,0,1,1],\n",
    "    [1,1,1,0,1,0,0],\n",
    "    [0,1,1,1,1,0,0],\n",
    "    [0,0,1,1,0,0,1],\n",
    "    [0,1,1,0,1,1,1],\n",
    "    [1,0,0,0,1,1,1],\n",
    "    [1,0,0,1,1,1,1]])\n",
    "\n",
    "M2 = np.array([\n",
    "    [1,1,0,0,0,0,0],\n",
    "    [1,1,0,0,0,0,0],\n",
    "    [0,0,1,1,0,0,0],\n",
    "    [0,0,1,1,0,0,0],\n",
    "    [0,0,0,0,1,1,1],\n",
    "    [0,0,0,0,1,1,1],\n",
    "    [0,0,0,0,1,1,1]])"
   ]
  },
  {
   "cell_type": "code",
   "execution_count": 16,
   "metadata": {},
   "outputs": [],
   "source": [
    "# Creamos las funciones que definirán si una función es Reflexiva, Simétrica o Transitiva #\n",
    "def ref (m):\n",
    "    if (np.diagonal(m).sum() == m.shape[0]):\n",
    "        print('Reflexiva')\n",
    "    else: print('No Reflexiva')\n",
    "\n",
    "\n",
    "def sim (m):\n",
    "    if ((m == np.transpose(m)).all()):\n",
    "        print('Simétrica')\n",
    "    else: print('No Simétrica')\n",
    "\n",
    "\n",
    "def trans(m):\n",
    "    M = m.dot(m)\n",
    "    M[M>=1] = 1\n",
    "    if ((m==M).all()):\n",
    "        print('Transitiva')\n",
    "    else: print('No Transitiva')"
   ]
  },
  {
   "cell_type": "code",
   "execution_count": 14,
   "metadata": {},
   "outputs": [
    {
     "name": "stdout",
     "output_type": "stream",
     "text": [
      "No Simétrica\n",
      "None\n",
      "Simétrica\n",
      "None\n",
      "Simétrica\n",
      "None\n"
     ]
    }
   ],
   "source": [
    "# Buscamos si son Simétricas #\n",
    "print(sim(M))\n",
    "print(sim(M1))\n",
    "print(sim(M2))"
   ]
  },
  {
   "cell_type": "code",
   "execution_count": 15,
   "metadata": {},
   "outputs": [
    {
     "name": "stdout",
     "output_type": "stream",
     "text": [
      "No Reflexiva\n",
      "None\n",
      "Reflexiva\n",
      "None\n",
      "Reflexiva\n",
      "None\n"
     ]
    }
   ],
   "source": [
    "# Buscamos si son Reflexivas #\n",
    "print(ref(M))\n",
    "print(ref(M1))\n",
    "print(ref(M2))"
   ]
  },
  {
   "cell_type": "code",
   "execution_count": 17,
   "metadata": {},
   "outputs": [
    {
     "name": "stdout",
     "output_type": "stream",
     "text": [
      "No Transitiva\n",
      "None\n",
      "No Transitiva\n",
      "None\n",
      "Transitiva\n",
      "None\n"
     ]
    }
   ],
   "source": [
    "# Buscamos si son Transitivas #\n",
    "print(trans(M))\n",
    "print(trans(M1))\n",
    "print(trans(M2))"
   ]
  },
  {
   "cell_type": "markdown",
   "metadata": {},
   "source": [
    "## Problema 2 ##"
   ]
  },
  {
   "cell_type": "code",
   "execution_count": 19,
   "metadata": {},
   "outputs": [
    {
     "name": "stdout",
     "output_type": "stream",
     "text": [
      "[[5 6]\n",
      " [7 8]]\n"
     ]
    }
   ],
   "source": [
    "# Creamos la matriz A #\n",
    "A = np.arange(5,9).reshape(2,2)\n",
    "print(A)"
   ]
  },
  {
   "cell_type": "code",
   "execution_count": 20,
   "metadata": {},
   "outputs": [
    {
     "name": "stdout",
     "output_type": "stream",
     "text": [
      "[[-7 -6 -5]\n",
      " [-4 -3 -2]]\n"
     ]
    }
   ],
   "source": [
    "# Creamos la matriz B #\n",
    "B = np.arange(-7,-1).reshape(2,3)\n",
    "print(B)"
   ]
  },
  {
   "cell_type": "code",
   "execution_count": 21,
   "metadata": {},
   "outputs": [
    {
     "name": "stdout",
     "output_type": "stream",
     "text": [
      "[[ 4  7]\n",
      " [10 13]]\n"
     ]
    }
   ],
   "source": [
    "# Creamos la matriz C #\n",
    "C = np.arange(4,14,3).reshape(2,2)\n",
    "print(C)"
   ]
  },
  {
   "cell_type": "code",
   "execution_count": 22,
   "metadata": {},
   "outputs": [
    {
     "name": "stdout",
     "output_type": "stream",
     "text": [
      "[[1. 0.]\n",
      " [0. 1.]]\n"
     ]
    }
   ],
   "source": [
    "# Creamos la matriz D #\n",
    "D = np.eye(2)\n",
    "print(D)"
   ]
  },
  {
   "cell_type": "code",
   "execution_count": 23,
   "metadata": {},
   "outputs": [
    {
     "name": "stdout",
     "output_type": "stream",
     "text": [
      "[[0. 0. 0.]\n",
      " [0. 0. 0.]]\n"
     ]
    }
   ],
   "source": [
    "# Creamos la matriz E #\n",
    "E = np.zeros(6).reshape(2,3)\n",
    "print(E)"
   ]
  },
  {
   "cell_type": "code",
   "execution_count": 24,
   "metadata": {},
   "outputs": [
    {
     "name": "stdout",
     "output_type": "stream",
     "text": [
      "[[ 5.  6.  1.  0.  0.  0.  0.]\n",
      " [ 7.  8.  0.  1.  0.  0.  0.]\n",
      " [ 1.  0.  4.  7. -7. -6. -5.]\n",
      " [ 0.  1. 10. 13. -4. -3. -2.]]\n"
     ]
    }
   ],
   "source": [
    "# Juntamos todas las matrices (pero no ingresamos los valores directamente)#\n",
    "parte_1 = np.hstack([A,D,E])\n",
    "parte_2 = np.hstack([D,C,B])\n",
    "H = np.vstack([parte_1, parte_2])\n",
    "print(H)"
   ]
  },
  {
   "cell_type": "markdown",
   "metadata": {},
   "source": [
    "## Pregunta 3 ##"
   ]
  },
  {
   "cell_type": "code",
   "execution_count": 25,
   "metadata": {},
   "outputs": [
    {
     "data": {
      "text/plain": [
       "array([[ 0,  1,  2,  3,  4,  5],\n",
       "       [ 6,  7,  8,  9, 10, 11],\n",
       "       [12, 13, 14, 15, 16, 17],\n",
       "       [18, 19, 20, 21, 22, 23]])"
      ]
     },
     "execution_count": 25,
     "metadata": {},
     "output_type": "execute_result"
    }
   ],
   "source": [
    "# Creamos la matriz que voltearemos #\n",
    "A = np.arange(0,24).reshape(4,6)\n",
    "A"
   ]
  },
  {
   "cell_type": "code",
   "execution_count": 27,
   "metadata": {},
   "outputs": [
    {
     "name": "stdout",
     "output_type": "stream",
     "text": [
      "Rotado 90 grados \n",
      " [[ 5 11 17 23]\n",
      " [ 4 10 16 22]\n",
      " [ 3  9 15 21]\n",
      " [ 2  8 14 20]\n",
      " [ 1  7 13 19]\n",
      " [ 0  6 12 18]]\n"
     ]
    }
   ],
   "source": [
    "# Rotamos la matriz 90 grados en dirección de las agujas del reloj #\n",
    "def rota90(m):\n",
    "    a = np.transpose(m)\n",
    "    print('Rotado 90 grados \\n', np.flip(a,0))\n",
    "\n",
    "rota90(A)"
   ]
  },
  {
   "cell_type": "code",
   "execution_count": 28,
   "metadata": {},
   "outputs": [
    {
     "name": "stdout",
     "output_type": "stream",
     "text": [
      "Rotado 180 grados \n",
      " [[23 22 21 20 19 18]\n",
      " [17 16 15 14 13 12]\n",
      " [11 10  9  8  7  6]\n",
      " [ 5  4  3  2  1  0]]\n"
     ]
    }
   ],
   "source": [
    "# Rotamos la matriz 180 grados en dirección de las agujas del reloj #\n",
    "def rota180(m):\n",
    "    a = np.flip(m)\n",
    "    print('Rotado 180 grados \\n', a)\n",
    "\n",
    "rota180(A)"
   ]
  },
  {
   "cell_type": "code",
   "execution_count": 31,
   "metadata": {},
   "outputs": [
    {
     "name": "stdout",
     "output_type": "stream",
     "text": [
      "Rotado 270 grados \n",
      " [[18 12  6  0]\n",
      " [19 13  7  1]\n",
      " [20 14  8  2]\n",
      " [21 15  9  3]\n",
      " [22 16 10  4]\n",
      " [23 17 11  5]]\n"
     ]
    }
   ],
   "source": [
    "# Rotamos la matriz 270 grados en dirección de las agujas del reloj #\n",
    "def rota270(m):\n",
    "    a = np.flip(m,0)\n",
    "    print('Rotado 270 grados \\n', np.transpose(a))\n",
    "\n",
    "rota270(A)"
   ]
  },
  {
   "cell_type": "code",
   "execution_count": 32,
   "metadata": {},
   "outputs": [
    {
     "name": "stdout",
     "output_type": "stream",
     "text": [
      "Rotado 90 Grados Rotados \n",
      " [[18 12  6  0]\n",
      " [19 13  7  1]\n",
      " [20 14  8  2]\n",
      " [21 15  9  3]\n",
      " [22 16 10  4]\n",
      " [23 17 11  5]]\n"
     ]
    }
   ],
   "source": [
    "# Rotamos la matriz 90 grados en dirección contraria de las agujas del reloj #\n",
    "def rota90_otro_lado(m):\n",
    "    a = np.transpose(m)\n",
    "    print('Rotado 90 Grados Rotados \\n', np.flip(a,1))\n",
    "\n",
    "rota90_otro_lado(A)"
   ]
  },
  {
   "cell_type": "code",
   "execution_count": 33,
   "metadata": {},
   "outputs": [
    {
     "name": "stdout",
     "output_type": "stream",
     "text": [
      "Rotado 180 Grados Rotado \n",
      " [[23 22 21 20 19 18]\n",
      " [17 16 15 14 13 12]\n",
      " [11 10  9  8  7  6]\n",
      " [ 5  4  3  2  1  0]]\n"
     ]
    }
   ],
   "source": [
    "# Rotamos la matriz 180 grados en dirección contraria de las agujas del reloj #\n",
    "def rota180_otro_lado(m):\n",
    "    a = np.flip(m)\n",
    "    print('Rotado 180 Grados Rotado \\n', a)\n",
    "\n",
    "rota180_otro_lado(A)"
   ]
  },
  {
   "cell_type": "code",
   "execution_count": 34,
   "metadata": {},
   "outputs": [
    {
     "name": "stdout",
     "output_type": "stream",
     "text": [
      "Rotado 270 Grados Rotado \n",
      " [[ 5 11 17 23]\n",
      " [ 4 10 16 22]\n",
      " [ 3  9 15 21]\n",
      " [ 2  8 14 20]\n",
      " [ 1  7 13 19]\n",
      " [ 0  6 12 18]]\n"
     ]
    }
   ],
   "source": [
    "# Rotamos la matriz 270 grados en dirección contraria de las agujas del reloj #\n",
    "def rota270_otro_lado(m):\n",
    "    a = np.transpose(m)\n",
    "    print('Rotado 270 Grados Rotado \\n', np.flip(a,0))\n",
    "\n",
    "rota270_otro_lado(A)"
   ]
  },
  {
   "cell_type": "markdown",
   "metadata": {},
   "source": [
    "### Problema 4 ###"
   ]
  },
  {
   "cell_type": "code",
   "execution_count": 37,
   "metadata": {},
   "outputs": [],
   "source": [
    "# En primer lugar copiamos el sistema de ecuaciones #\n",
    "sistema_de_ecuaciones = np.array([\n",
    "[2,0,0,1,0,0,0,0],\n",
    "[1,0,0,1,0,0,0,0],\n",
    "[-1,0,0,2,0,0,0,0],\n",
    "[0,2,0,0,1,0,0,0],\n",
    "[0,1,0,0,1,0,0,0],\n",
    "[0,-1,0,0,2,0,0,0],\n",
    "[0,0,2,0,0,1,0,0],\n",
    "[0,0,1,0,0,1,0,0],\n",
    "[0,0,-1,0,0,2,0,0],\n",
    "[0,0,0,0,0,0,1,2],\n",
    "[0,0,0,0,0,0,1,1],\n",
    "[0,0,0,0,0,0,2,-1]\n",
    "])"
   ]
  },
  {
   "cell_type": "code",
   "execution_count": 38,
   "metadata": {},
   "outputs": [],
   "source": [
    "# Ahora copiamos la respuesta de los sistemas de ecuaciones #\n",
    "respuestas = np.array([\n",
    "    [4],\n",
    "    [3],\n",
    "    [3],\n",
    "    [3],\n",
    "    [2],\n",
    "    [1],\n",
    "    [6],\n",
    "    [4],\n",
    "    [2],\n",
    "    [-3],\n",
    "    [-1],\n",
    "    [4]\n",
    "])"
   ]
  },
  {
   "cell_type": "code",
   "execution_count": 43,
   "metadata": {},
   "outputs": [
    {
     "data": {
      "text/plain": [
       "array([[ 1.],\n",
       "       [ 1.],\n",
       "       [ 2.],\n",
       "       [ 2.],\n",
       "       [ 1.],\n",
       "       [ 2.],\n",
       "       [ 1.],\n",
       "       [-2.]])"
      ]
     },
     "execution_count": 43,
     "metadata": {},
     "output_type": "execute_result"
    }
   ],
   "source": [
    "# Ahora obtenemos las respuestas a las variables #\n",
    "solucion = np.matmul(np.linalg.pinv(sistema_de_ecuaciones), respuestas)\n",
    "solucion"
   ]
  }
 ],
 "metadata": {
  "kernelspec": {
   "display_name": "Python 3",
   "language": "python",
   "name": "python3"
  },
  "language_info": {
   "codemirror_mode": {
    "name": "ipython",
    "version": 3
   },
   "file_extension": ".py",
   "mimetype": "text/x-python",
   "name": "python",
   "nbconvert_exporter": "python",
   "pygments_lexer": "ipython3",
   "version": "3.7.6"
  }
 },
 "nbformat": 4,
 "nbformat_minor": 4
}
